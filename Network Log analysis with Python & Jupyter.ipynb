{
 "cells": [
  {
   "cell_type": "markdown",
   "metadata": {},
   "source": [
    "\n",
    "## Introduction\n",
    "WE are using Pandas to examine the auth.log of a server to check for intrusions. \n",
    "\n",
    "Pandas is used to manipulate training data before it is fed into a training model. \n",
    "\n",
    "Pandas (Python Data Analysis Library) \"is an open source, BSD-licensed library providing high-performance, easy-to-use data structures and data analysis tools for the Python programming language.\"\n",
    "___\n",
    "\n",
    "This made up of data from Secrepo http://www.secrepo.com/ which contains Samples of Security Related Data"
   ]
  },
  {
   "cell_type": "code",
   "execution_count": 4,
   "metadata": {
    "collapsed": true
   },
   "outputs": [],
   "source": [
    "import pandas as pd\n",
    "import numpy as np\n",
    "pd.set_option('display.max_rows', 10)\n",
    "pd.set_option('display.max_columns',5)"
   ]
  },
  {
   "cell_type": "markdown",
   "metadata": {},
   "source": [
    "### File Input (CSV)\n",
    "This next cell does a couple of things, first it imports pandas so we can create a dataframe, and then it reads our newly created file from above into memory. You can see the separator is specified to \"\\t\" because Bro produces tab-delimited files by default. In this case we've also specified what we should call the columns in the dataframe."
   ]
  },
  {
   "cell_type": "code",
   "execution_count": 9,
   "metadata": {
    "collapsed": true
   },
   "outputs": [],
   "source": [
    "logfile = 'conn_sample.log'\n",
    "import pandas as pd\n",
    "conn_df = pd.read_csv(logfile, sep=\"\\t\", header=None, names=['ts','uid','id.orig_h','id.orig_p','id.resp_h','id.resp_p','proto','service','duration','orig_bytes','resp_bytes','conn_state','local_orig','missed_bytes','history','orig_pkts','orig_ip_bytes','resp_pkts','resp_ip_bytes','tunnel_parents','threat','sample'])"
   ]
  },
  {
   "cell_type": "markdown",
   "metadata": {},
   "source": [
    "### Verifying Input\n",
    "Now (in theory) the contents of the file should be in a nicely laid-out dataframe.\n",
    "\n",
    "For this next exercise, experiment with calling the **head()** and **tail()** method to see the values at the beginning and end of the dataframe. You can also pass a number to **head()** and **tail()** to specify the number of lines you want to see. Remember to click *play* or press *[Shift]+[Enter]* to execute the code in the cell after you change it."
   ]
  },
  {
   "cell_type": "code",
   "execution_count": 10,
   "metadata": {},
   "outputs": [
    {
     "data": {
      "text/html": [
       "<div>\n",
       "<style>\n",
       "    .dataframe thead tr:only-child th {\n",
       "        text-align: right;\n",
       "    }\n",
       "\n",
       "    .dataframe thead th {\n",
       "        text-align: left;\n",
       "    }\n",
       "\n",
       "    .dataframe tbody tr th {\n",
       "        vertical-align: top;\n",
       "    }\n",
       "</style>\n",
       "<table border=\"1\" class=\"dataframe\">\n",
       "  <thead>\n",
       "    <tr style=\"text-align: right;\">\n",
       "      <th></th>\n",
       "      <th>ts</th>\n",
       "      <th>uid</th>\n",
       "      <th>...</th>\n",
       "      <th>threat</th>\n",
       "      <th>sample</th>\n",
       "    </tr>\n",
       "  </thead>\n",
       "  <tbody>\n",
       "    <tr>\n",
       "      <th>0</th>\n",
       "      <td>1.331901e+09</td>\n",
       "      <td>CX7YFb33Wlx68VyY3i</td>\n",
       "      <td>...</td>\n",
       "      <td>NaN</td>\n",
       "      <td>NaN</td>\n",
       "    </tr>\n",
       "    <tr>\n",
       "      <th>1</th>\n",
       "      <td>1.331901e+09</td>\n",
       "      <td>C3Ue4gd3oYXuNjkH2</td>\n",
       "      <td>...</td>\n",
       "      <td>NaN</td>\n",
       "      <td>NaN</td>\n",
       "    </tr>\n",
       "    <tr>\n",
       "      <th>2</th>\n",
       "      <td>1.331901e+09</td>\n",
       "      <td>C1UpLh1IiDGw4XKit7</td>\n",
       "      <td>...</td>\n",
       "      <td>NaN</td>\n",
       "      <td>NaN</td>\n",
       "    </tr>\n",
       "    <tr>\n",
       "      <th>3</th>\n",
       "      <td>1.331901e+09</td>\n",
       "      <td>CcWO2OX2RDWuSgf5c</td>\n",
       "      <td>...</td>\n",
       "      <td>NaN</td>\n",
       "      <td>NaN</td>\n",
       "    </tr>\n",
       "    <tr>\n",
       "      <th>4</th>\n",
       "      <td>1.331901e+09</td>\n",
       "      <td>COMNRodQHYvrp8949</td>\n",
       "      <td>...</td>\n",
       "      <td>NaN</td>\n",
       "      <td>NaN</td>\n",
       "    </tr>\n",
       "  </tbody>\n",
       "</table>\n",
       "<p>5 rows × 22 columns</p>\n",
       "</div>"
      ],
      "text/plain": [
       "             ts                 uid   ...   threat  sample\n",
       "0  1.331901e+09  CX7YFb33Wlx68VyY3i   ...      NaN     NaN\n",
       "1  1.331901e+09   C3Ue4gd3oYXuNjkH2   ...      NaN     NaN\n",
       "2  1.331901e+09  C1UpLh1IiDGw4XKit7   ...      NaN     NaN\n",
       "3  1.331901e+09   CcWO2OX2RDWuSgf5c   ...      NaN     NaN\n",
       "4  1.331901e+09   COMNRodQHYvrp8949   ...      NaN     NaN\n",
       "\n",
       "[5 rows x 22 columns]"
      ]
     },
     "execution_count": 10,
     "metadata": {},
     "output_type": "execute_result"
    }
   ],
   "source": [
    "conn_df.head()"
   ]
  },
  {
   "cell_type": "markdown",
   "metadata": {},
   "source": [
    "### list column Headers or column names"
   ]
  },
  {
   "cell_type": "code",
   "execution_count": 31,
   "metadata": {},
   "outputs": [
    {
     "data": {
      "text/plain": [
       "array(['ts', 'uid', 'id.orig_h', 'id.orig_p', 'id.resp_h', 'id.resp_p',\n",
       "       'proto', 'service', 'duration', 'orig_bytes', 'resp_bytes',\n",
       "       'conn_state', 'local_orig', 'missed_bytes', 'history', 'orig_pkts',\n",
       "       'orig_ip_bytes', 'resp_pkts', 'resp_ip_bytes', 'tunnel_parents'], dtype=object)"
      ]
     },
     "execution_count": 31,
     "metadata": {},
     "output_type": "execute_result"
    }
   ],
   "source": [
    "conn_df.columns.values"
   ]
  },
  {
   "cell_type": "markdown",
   "metadata": {},
   "source": [
    "### Data Summarization\n",
    "Now create a new cell below this one. This can be accomplished by clicking on this cell once, and then clicking the *+* icon towards the top or selecting *Insert* from above and then selecting *Insert Cell Below*. After creating the new cell, it's time to learn about the **describe()** method that can be called on dataframes. This will give you a numeric summarization of all columns that contain numbers.\n",
    "\n",
    "Try it out!"
   ]
  },
  {
   "cell_type": "code",
   "execution_count": 12,
   "metadata": {},
   "outputs": [
    {
     "data": {
      "text/html": [
       "<div>\n",
       "<style>\n",
       "    .dataframe thead tr:only-child th {\n",
       "        text-align: right;\n",
       "    }\n",
       "\n",
       "    .dataframe thead th {\n",
       "        text-align: left;\n",
       "    }\n",
       "\n",
       "    .dataframe tbody tr th {\n",
       "        vertical-align: top;\n",
       "    }\n",
       "</style>\n",
       "<table border=\"1\" class=\"dataframe\">\n",
       "  <thead>\n",
       "    <tr style=\"text-align: right;\">\n",
       "      <th></th>\n",
       "      <th>ts</th>\n",
       "      <th>id.orig_p</th>\n",
       "      <th>...</th>\n",
       "      <th>threat</th>\n",
       "      <th>sample</th>\n",
       "    </tr>\n",
       "  </thead>\n",
       "  <tbody>\n",
       "    <tr>\n",
       "      <th>count</th>\n",
       "      <td>2.269400e+04</td>\n",
       "      <td>22694.000000</td>\n",
       "      <td>...</td>\n",
       "      <td>0.0</td>\n",
       "      <td>0.0</td>\n",
       "    </tr>\n",
       "    <tr>\n",
       "      <th>mean</th>\n",
       "      <td>1.331949e+09</td>\n",
       "      <td>42876.368335</td>\n",
       "      <td>...</td>\n",
       "      <td>NaN</td>\n",
       "      <td>NaN</td>\n",
       "    </tr>\n",
       "    <tr>\n",
       "      <th>std</th>\n",
       "      <td>4.280920e+04</td>\n",
       "      <td>15195.061536</td>\n",
       "      <td>...</td>\n",
       "      <td>NaN</td>\n",
       "      <td>NaN</td>\n",
       "    </tr>\n",
       "    <tr>\n",
       "      <th>min</th>\n",
       "      <td>1.331901e+09</td>\n",
       "      <td>3.000000</td>\n",
       "      <td>...</td>\n",
       "      <td>NaN</td>\n",
       "      <td>NaN</td>\n",
       "    </tr>\n",
       "    <tr>\n",
       "      <th>25%</th>\n",
       "      <td>1.331908e+09</td>\n",
       "      <td>36291.000000</td>\n",
       "      <td>...</td>\n",
       "      <td>NaN</td>\n",
       "      <td>NaN</td>\n",
       "    </tr>\n",
       "    <tr>\n",
       "      <th>50%</th>\n",
       "      <td>1.331928e+09</td>\n",
       "      <td>44317.000000</td>\n",
       "      <td>...</td>\n",
       "      <td>NaN</td>\n",
       "      <td>NaN</td>\n",
       "    </tr>\n",
       "    <tr>\n",
       "      <th>75%</th>\n",
       "      <td>1.331997e+09</td>\n",
       "      <td>54416.000000</td>\n",
       "      <td>...</td>\n",
       "      <td>NaN</td>\n",
       "      <td>NaN</td>\n",
       "    </tr>\n",
       "    <tr>\n",
       "      <th>max</th>\n",
       "      <td>1.332018e+09</td>\n",
       "      <td>65514.000000</td>\n",
       "      <td>...</td>\n",
       "      <td>NaN</td>\n",
       "      <td>NaN</td>\n",
       "    </tr>\n",
       "  </tbody>\n",
       "</table>\n",
       "<p>8 rows × 10 columns</p>\n",
       "</div>"
      ],
      "text/plain": [
       "                 ts     id.orig_p   ...    threat  sample\n",
       "count  2.269400e+04  22694.000000   ...       0.0     0.0\n",
       "mean   1.331949e+09  42876.368335   ...       NaN     NaN\n",
       "std    4.280920e+04  15195.061536   ...       NaN     NaN\n",
       "min    1.331901e+09      3.000000   ...       NaN     NaN\n",
       "25%    1.331908e+09  36291.000000   ...       NaN     NaN\n",
       "50%    1.331928e+09  44317.000000   ...       NaN     NaN\n",
       "75%    1.331997e+09  54416.000000   ...       NaN     NaN\n",
       "max    1.332018e+09  65514.000000   ...       NaN     NaN\n",
       "\n",
       "[8 rows x 10 columns]"
      ]
     },
     "execution_count": 12,
     "metadata": {},
     "output_type": "execute_result"
    }
   ],
   "source": [
    "conn_df.describe()"
   ]
  },
  {
   "cell_type": "markdown",
   "metadata": {},
   "source": [
    "### Data Types\n",
    "Wait a second, isn't the ts column supposed to be a timestamp? Perhaps this column would be better suited as a time data type vs. a number.\n",
    "\n",
    "Run the cell below to see what type of information Python stored in each column."
   ]
  },
  {
   "cell_type": "code",
   "execution_count": 13,
   "metadata": {},
   "outputs": [
    {
     "data": {
      "text/plain": [
       "ts                float64\n",
       "uid                object\n",
       "id.orig_h          object\n",
       "id.orig_p           int64\n",
       "id.resp_h          object\n",
       "                   ...   \n",
       "resp_pkts           int64\n",
       "resp_ip_bytes       int64\n",
       "tunnel_parents     object\n",
       "threat            float64\n",
       "sample            float64\n",
       "Length: 22, dtype: object"
      ]
     },
     "execution_count": 13,
     "metadata": {},
     "output_type": "execute_result"
    }
   ],
   "source": [
    "conn_df.dtypes"
   ]
  },
  {
   "cell_type": "markdown",
   "metadata": {},
   "source": [
    "### Converting Column Types\n",
    "Time to change the ts column to a datetime object! We will accomplish that by using a simple function provided called *to_datetime()*. The cell below runs this function on the ts column (what should be a time stamp), and then re-assigns this column back to the dataframe in the same place. A new timestamp column could have been added to the dataframe as well so both the float value and the datetime object columns are present.\n",
    "\n",
    "Run the cell below to convert the column type."
   ]
  },
  {
   "cell_type": "code",
   "execution_count": 15,
   "metadata": {
    "collapsed": true
   },
   "outputs": [],
   "source": [
    "from datetime import datetime\n",
    "conn_df['ts'] = [datetime.fromtimestamp(float(date)) for date in conn_df['ts'].values]"
   ]
  },
  {
   "cell_type": "code",
   "execution_count": 16,
   "metadata": {},
   "outputs": [
    {
     "data": {
      "text/plain": [
       "ts                datetime64[ns]\n",
       "uid                       object\n",
       "id.orig_h                 object\n",
       "id.orig_p                  int64\n",
       "id.resp_h                 object\n",
       "                       ...      \n",
       "resp_pkts                  int64\n",
       "resp_ip_bytes              int64\n",
       "tunnel_parents            object\n",
       "threat                   float64\n",
       "sample                   float64\n",
       "Length: 22, dtype: object"
      ]
     },
     "execution_count": 16,
     "metadata": {},
     "output_type": "execute_result"
    }
   ],
   "source": [
    "conn_df.dtypes"
   ]
  },
  {
   "cell_type": "markdown",
   "metadata": {},
   "source": [
    "### Data Value Exploration\n",
    "Verify that the conversion was successful. What is the datatype of the column now?\n",
    "\n",
    "Scroll back up the page and note where you ran the **describe()** function. You'll see under the threat and sample columns there is likely the value of *NaN*. This stands for Not a Number and is a special value assigned to empty column values. There are a few ways to explore what values a column has. Two of these are **value_counts()** and **unique()**. \n",
    "\n",
    "Try them below on different columns. You can create new cells or if you want to get more than the last command worth of output you can put a print statement in front. \n",
    "\n",
    "What happens when you run them on a column with IPs (*id.orig_h, id.resp_h*)? What about sample or threat?"
   ]
  },
  {
   "cell_type": "code",
   "execution_count": 17,
   "metadata": {},
   "outputs": [
    {
     "data": {
      "text/plain": [
       "array([ nan])"
      ]
     },
     "execution_count": 17,
     "metadata": {},
     "output_type": "execute_result"
    }
   ],
   "source": [
    "conn_df['sample'].unique()"
   ]
  },
  {
   "cell_type": "code",
   "execution_count": 26,
   "metadata": {},
   "outputs": [
    {
     "data": {
      "text/plain": [
       "array(['http', '-', 'dns', 'ssl', 'ftp-data', 'smtp', 'ftp', 'ssh', 'dhcp'], dtype=object)"
      ]
     },
     "execution_count": 26,
     "metadata": {},
     "output_type": "execute_result"
    }
   ],
   "source": [
    "conn_df['service'].unique()"
   ]
  },
  {
   "cell_type": "markdown",
   "metadata": {},
   "source": [
    "### Remove Columns\n",
    "Another useful operation on a dataframe is removing and adding columns.  Since the threat and sample columns contain only *NaNs*, we can safely remove them and not impact any analysis that may be performed. \n",
    "\n",
    "Below the sample column is removed (dropped), add a similar line to drop the *threat* column and use a method from above to verify they are no longer in the dataframe."
   ]
  },
  {
   "cell_type": "code",
   "execution_count": 19,
   "metadata": {
    "collapsed": true
   },
   "outputs": [],
   "source": [
    "conn_df.drop('sample', axis=1, inplace=True)"
   ]
  },
  {
   "cell_type": "code",
   "execution_count": 20,
   "metadata": {
    "collapsed": true
   },
   "outputs": [],
   "source": [
    "conn_df.drop('threat', axis=1, inplace=True)"
   ]
  },
  {
   "cell_type": "markdown",
   "metadata": {},
   "source": [
    "### Row Selection\n",
    "\n",
    "You can use column values to select rows from the dataframes (and even only view specific columns). First, select all rows that contain *SSL* traffic by running the cell below."
   ]
  },
  {
   "cell_type": "code",
   "execution_count": 27,
   "metadata": {},
   "outputs": [
    {
     "data": {
      "text/html": [
       "<div>\n",
       "<style>\n",
       "    .dataframe thead tr:only-child th {\n",
       "        text-align: right;\n",
       "    }\n",
       "\n",
       "    .dataframe thead th {\n",
       "        text-align: left;\n",
       "    }\n",
       "\n",
       "    .dataframe tbody tr th {\n",
       "        vertical-align: top;\n",
       "    }\n",
       "</style>\n",
       "<table border=\"1\" class=\"dataframe\">\n",
       "  <thead>\n",
       "    <tr style=\"text-align: right;\">\n",
       "      <th></th>\n",
       "      <th>ts</th>\n",
       "      <th>uid</th>\n",
       "      <th>...</th>\n",
       "      <th>resp_ip_bytes</th>\n",
       "      <th>tunnel_parents</th>\n",
       "    </tr>\n",
       "  </thead>\n",
       "  <tbody>\n",
       "    <tr>\n",
       "      <th>694</th>\n",
       "      <td>2012-03-16 14:50:20.130</td>\n",
       "      <td>C5fIJY2gFFSRHNMT7j</td>\n",
       "      <td>...</td>\n",
       "      <td>1744</td>\n",
       "      <td>(empty)</td>\n",
       "    </tr>\n",
       "    <tr>\n",
       "      <th>3555</th>\n",
       "      <td>2012-03-16 15:24:03.670</td>\n",
       "      <td>C3sK6U2FVQTBlsmC6</td>\n",
       "      <td>...</td>\n",
       "      <td>2500</td>\n",
       "      <td>(empty)</td>\n",
       "    </tr>\n",
       "    <tr>\n",
       "      <th>3754</th>\n",
       "      <td>2012-03-16 15:27:07.740</td>\n",
       "      <td>C6wADf1dTu6ABEtij7</td>\n",
       "      <td>...</td>\n",
       "      <td>11352</td>\n",
       "      <td>(empty)</td>\n",
       "    </tr>\n",
       "    <tr>\n",
       "      <th>4029</th>\n",
       "      <td>2012-03-16 15:30:30.130</td>\n",
       "      <td>Ci3l194XvsiLaHpnd7</td>\n",
       "      <td>...</td>\n",
       "      <td>2532</td>\n",
       "      <td>(empty)</td>\n",
       "    </tr>\n",
       "    <tr>\n",
       "      <th>4114</th>\n",
       "      <td>2012-03-16 15:32:07.820</td>\n",
       "      <td>Chh2vv39qBfHXyWPtk</td>\n",
       "      <td>...</td>\n",
       "      <td>2605</td>\n",
       "      <td>(empty)</td>\n",
       "    </tr>\n",
       "  </tbody>\n",
       "</table>\n",
       "<p>5 rows × 20 columns</p>\n",
       "</div>"
      ],
      "text/plain": [
       "                          ts                 uid       ...        \\\n",
       "694  2012-03-16 14:50:20.130  C5fIJY2gFFSRHNMT7j       ...         \n",
       "3555 2012-03-16 15:24:03.670   C3sK6U2FVQTBlsmC6       ...         \n",
       "3754 2012-03-16 15:27:07.740  C6wADf1dTu6ABEtij7       ...         \n",
       "4029 2012-03-16 15:30:30.130  Ci3l194XvsiLaHpnd7       ...         \n",
       "4114 2012-03-16 15:32:07.820  Chh2vv39qBfHXyWPtk       ...         \n",
       "\n",
       "     resp_ip_bytes  tunnel_parents  \n",
       "694           1744         (empty)  \n",
       "3555          2500         (empty)  \n",
       "3754         11352         (empty)  \n",
       "4029          2532         (empty)  \n",
       "4114          2605         (empty)  \n",
       "\n",
       "[5 rows x 20 columns]"
      ]
     },
     "execution_count": 27,
     "metadata": {},
     "output_type": "execute_result"
    }
   ],
   "source": [
    "conn_df[conn_df['service'] == 'ssl'].head()"
   ]
  },
  {
   "cell_type": "markdown",
   "metadata": {},
   "source": [
    "Next we can assign that result to a dataframe, and then look at all all the *SSL* connections that happen over ports other than 443."
   ]
  },
  {
   "cell_type": "code",
   "execution_count": 24,
   "metadata": {},
   "outputs": [
    {
     "data": {
      "text/html": [
       "<div>\n",
       "<style>\n",
       "    .dataframe thead tr:only-child th {\n",
       "        text-align: right;\n",
       "    }\n",
       "\n",
       "    .dataframe thead th {\n",
       "        text-align: left;\n",
       "    }\n",
       "\n",
       "    .dataframe tbody tr th {\n",
       "        vertical-align: top;\n",
       "    }\n",
       "</style>\n",
       "<table border=\"1\" class=\"dataframe\">\n",
       "  <thead>\n",
       "    <tr style=\"text-align: right;\">\n",
       "      <th></th>\n",
       "      <th>ts</th>\n",
       "      <th>uid</th>\n",
       "      <th>...</th>\n",
       "      <th>resp_ip_bytes</th>\n",
       "      <th>tunnel_parents</th>\n",
       "    </tr>\n",
       "  </thead>\n",
       "  <tbody>\n",
       "    <tr>\n",
       "      <th>4258</th>\n",
       "      <td>2012-03-16 15:35:41.390</td>\n",
       "      <td>C5TAs84EMfq8FUReFj</td>\n",
       "      <td>...</td>\n",
       "      <td>2136</td>\n",
       "      <td>(empty)</td>\n",
       "    </tr>\n",
       "    <tr>\n",
       "      <th>9787</th>\n",
       "      <td>2012-03-16 20:22:13.470</td>\n",
       "      <td>CSDHCrxBUwxESlFq7</td>\n",
       "      <td>...</td>\n",
       "      <td>87196</td>\n",
       "      <td>(empty)</td>\n",
       "    </tr>\n",
       "    <tr>\n",
       "      <th>10043</th>\n",
       "      <td>2012-03-16 20:33:32.690</td>\n",
       "      <td>CPtZYf4ZGn24p9Nyo1</td>\n",
       "      <td>...</td>\n",
       "      <td>2005</td>\n",
       "      <td>(empty)</td>\n",
       "    </tr>\n",
       "    <tr>\n",
       "      <th>18116</th>\n",
       "      <td>2012-03-17 17:53:08.290</td>\n",
       "      <td>CWtid24fnLxpiTral8</td>\n",
       "      <td>...</td>\n",
       "      <td>2005</td>\n",
       "      <td>(empty)</td>\n",
       "    </tr>\n",
       "    <tr>\n",
       "      <th>18144</th>\n",
       "      <td>2012-03-17 17:53:53.390</td>\n",
       "      <td>CcJYzA61tfLhlaDS6</td>\n",
       "      <td>...</td>\n",
       "      <td>2005</td>\n",
       "      <td>(empty)</td>\n",
       "    </tr>\n",
       "  </tbody>\n",
       "</table>\n",
       "<p>5 rows × 20 columns</p>\n",
       "</div>"
      ],
      "text/plain": [
       "                           ts                 uid       ...        \\\n",
       "4258  2012-03-16 15:35:41.390  C5TAs84EMfq8FUReFj       ...         \n",
       "9787  2012-03-16 20:22:13.470   CSDHCrxBUwxESlFq7       ...         \n",
       "10043 2012-03-16 20:33:32.690  CPtZYf4ZGn24p9Nyo1       ...         \n",
       "18116 2012-03-17 17:53:08.290  CWtid24fnLxpiTral8       ...         \n",
       "18144 2012-03-17 17:53:53.390   CcJYzA61tfLhlaDS6       ...         \n",
       "\n",
       "      resp_ip_bytes  tunnel_parents  \n",
       "4258           2136         (empty)  \n",
       "9787          87196         (empty)  \n",
       "10043          2005         (empty)  \n",
       "18116          2005         (empty)  \n",
       "18144          2005         (empty)  \n",
       "\n",
       "[5 rows x 20 columns]"
      ]
     },
     "execution_count": 24,
     "metadata": {},
     "output_type": "execute_result"
    }
   ],
   "source": [
    "ssl_df = conn_df[conn_df['service'] == 'ssl']\n",
    "ssl_df[ssl_df['id.resp_p'] != 443].head()"
   ]
  },
  {
   "cell_type": "markdown",
   "metadata": {},
   "source": [
    "lets find all the SSH entries"
   ]
  },
  {
   "cell_type": "code",
   "execution_count": 30,
   "metadata": {},
   "outputs": [
    {
     "data": {
      "text/plain": [
       "192.168.202.80     1\n",
       "192.168.202.110    1\n",
       "192.168.202.108    1\n",
       "192.168.202.138    1\n",
       "Name: id.orig_h, dtype: int64"
      ]
     },
     "execution_count": 30,
     "metadata": {},
     "output_type": "execute_result"
    }
   ],
   "source": [
    "http_df = conn_df[conn_df['service'] == 'ssh']\n",
    "http_df['id.orig_h'].value_counts()"
   ]
  },
  {
   "cell_type": "code",
   "execution_count": null,
   "metadata": {
    "collapsed": true
   },
   "outputs": [],
   "source": []
  }
 ],
 "metadata": {
  "kernelspec": {
   "display_name": "Python 3",
   "language": "python",
   "name": "python3"
  },
  "language_info": {
   "codemirror_mode": {
    "name": "ipython",
    "version": 3
   },
   "file_extension": ".py",
   "mimetype": "text/x-python",
   "name": "python",
   "nbconvert_exporter": "python",
   "pygments_lexer": "ipython3",
   "version": "3.6.3"
  }
 },
 "nbformat": 4,
 "nbformat_minor": 2
}
